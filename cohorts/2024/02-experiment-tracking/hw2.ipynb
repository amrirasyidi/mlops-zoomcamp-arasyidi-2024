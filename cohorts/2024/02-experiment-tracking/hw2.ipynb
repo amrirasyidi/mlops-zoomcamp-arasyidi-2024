{
 "cells": [
  {
   "cell_type": "code",
   "execution_count": 1,
   "metadata": {},
   "outputs": [],
   "source": [
    "%load_ext autoreload\n",
    "%autoreload 2"
   ]
  },
  {
   "cell_type": "code",
   "execution_count": 2,
   "metadata": {},
   "outputs": [],
   "source": [
    "import os\n",
    "from pathlib import Path\n",
    "from urllib.parse import urlparse"
   ]
  },
  {
   "cell_type": "code",
   "execution_count": 3,
   "metadata": {},
   "outputs": [],
   "source": [
    "import pandas as pd"
   ]
  },
  {
   "cell_type": "code",
   "execution_count": 4,
   "metadata": {},
   "outputs": [],
   "source": [
    "import pickle"
   ]
  },
  {
   "cell_type": "code",
   "execution_count": 5,
   "metadata": {},
   "outputs": [],
   "source": [
    "import seaborn as sns\n",
    "import matplotlib.pyplot as plt"
   ]
  },
  {
   "cell_type": "code",
   "execution_count": 6,
   "metadata": {},
   "outputs": [],
   "source": [
    "from sklearn.feature_extraction import DictVectorizer\n",
    "from sklearn.linear_model import LinearRegression\n",
    "from sklearn.linear_model import Lasso\n",
    "from sklearn.linear_model import Ridge\n",
    "\n",
    "from sklearn.metrics import mean_squared_error"
   ]
  },
  {
   "cell_type": "code",
   "execution_count": 7,
   "metadata": {},
   "outputs": [],
   "source": [
    "from homework import preprocess_data"
   ]
  },
  {
   "cell_type": "code",
   "execution_count": 8,
   "metadata": {},
   "outputs": [],
   "source": [
    "WORK_DIR = Path(os.getcwd()).parent.parent\n",
    "\n",
    "DATA_DIR = WORK_DIR / 'data'\n",
    "\n",
    "MODEL_DIR = WORK_DIR / 'models'\n",
    "\n",
    "DIR_LIST = [\n",
    "    DATA_DIR,\n",
    "    MODEL_DIR\n",
    "]\n",
    "\n",
    "for dir in DIR_LIST:\n",
    "    if not dir.exists():\n",
    "        os.mkdir(dir)\n",
    "        \n",
    "DEST_DIR = WORK_DIR / 'output'"
   ]
  },
  {
   "cell_type": "code",
   "execution_count": 9,
   "metadata": {},
   "outputs": [
    {
     "name": "stdout",
     "output_type": "stream",
     "text": [
      "file already exist, skipping download...\n",
      "file already exist, skipping download...\n",
      "file already exist, skipping download...\n",
      "file already exist, skipping download...\n",
      "file already exist, skipping download...\n",
      "file already exist, skipping download...\n"
     ]
    }
   ],
   "source": [
    "# from https://www.nyc.gov/site/tlc/about/tlc-trip-record-data.page\n",
    "data_uri_list = [\n",
    "    'https://d37ci6vzurychx.cloudfront.net/trip-data/yellow_tripdata_2023-01.parquet',\n",
    "    'https://d37ci6vzurychx.cloudfront.net/trip-data/yellow_tripdata_2023-02.parquet',\n",
    "    'https://d37ci6vzurychx.cloudfront.net/trip-data/yellow_tripdata_2023-03.parquet',\n",
    "    'https://d37ci6vzurychx.cloudfront.net/trip-data/green_tripdata_2023-01.parquet',\n",
    "    'https://d37ci6vzurychx.cloudfront.net/trip-data/green_tripdata_2023-02.parquet',\n",
    "    'https://d37ci6vzurychx.cloudfront.net/trip-data/green_tripdata_2023-03.parquet',\n",
    "    ]\n",
    "\n",
    "for data_uri in data_uri_list:\n",
    "    data_uri_name = os.path.basename(urlparse(data_uri).path)\n",
    "    if not (DATA_DIR / data_uri_name).exists():\n",
    "        os.system(f'wget {data_uri} -P {str((DATA_DIR / data_uri_name).parent)}')\n",
    "    else:\n",
    "        print('file already exist, skipping download...')"
   ]
  },
  {
   "cell_type": "code",
   "execution_count": 10,
   "metadata": {},
   "outputs": [],
   "source": [
    "preprocess_data.run_data_prep(str(DATA_DIR), str(DEST_DIR))"
   ]
  },
  {
   "cell_type": "code",
   "execution_count": null,
   "metadata": {},
   "outputs": [],
   "source": []
  }
 ],
 "metadata": {
  "kernelspec": {
   "display_name": "mlops_zc",
   "language": "python",
   "name": "python3"
  },
  "language_info": {
   "codemirror_mode": {
    "name": "ipython",
    "version": 3
   },
   "file_extension": ".py",
   "mimetype": "text/x-python",
   "name": "python",
   "nbconvert_exporter": "python",
   "pygments_lexer": "ipython3",
   "version": "3.9.19"
  }
 },
 "nbformat": 4,
 "nbformat_minor": 2
}
