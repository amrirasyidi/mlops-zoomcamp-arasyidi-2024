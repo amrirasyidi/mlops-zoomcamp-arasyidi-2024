{
 "cells": [
  {
   "cell_type": "code",
   "execution_count": 1,
   "metadata": {},
   "outputs": [],
   "source": [
    "%load_ext autoreload\n",
    "%autoreload 2"
   ]
  },
  {
   "cell_type": "code",
   "execution_count": 2,
   "metadata": {},
   "outputs": [],
   "source": [
    "import os\n",
    "from pathlib import Path\n",
    "from urllib.parse import urlparse"
   ]
  },
  {
   "cell_type": "code",
   "execution_count": 3,
   "metadata": {},
   "outputs": [],
   "source": [
    "import pandas as pd"
   ]
  },
  {
   "cell_type": "code",
   "execution_count": 4,
   "metadata": {},
   "outputs": [],
   "source": [
    "import pickle"
   ]
  },
  {
   "cell_type": "code",
   "execution_count": 5,
   "metadata": {},
   "outputs": [],
   "source": [
    "import seaborn as sns\n",
    "import matplotlib.pyplot as plt"
   ]
  },
  {
   "cell_type": "code",
   "execution_count": 6,
   "metadata": {},
   "outputs": [],
   "source": [
    "from sklearn.feature_extraction import DictVectorizer\n",
    "from sklearn.linear_model import LinearRegression\n",
    "from sklearn.linear_model import Lasso\n",
    "from sklearn.linear_model import Ridge\n",
    "\n",
    "from sklearn.metrics import mean_squared_error"
   ]
  },
  {
   "cell_type": "code",
   "execution_count": 7,
   "metadata": {},
   "outputs": [],
   "source": [
    "import mlflow\n",
    "from mlflow import MlflowClient\n",
    "from mlflow.entities import ViewType"
   ]
  },
  {
   "cell_type": "code",
   "execution_count": 8,
   "metadata": {},
   "outputs": [
    {
     "name": "stderr",
     "output_type": "stream",
     "text": [
      "2024/05/26 04:49:48 WARNING mlflow.utils.autologging_utils: You are using an unsupported version of sklearn. If you encounter errors during autologging, try upgrading / downgrading sklearn to a supported version, or try upgrading MLflow.\n"
     ]
    }
   ],
   "source": [
    "from homework_nb import preprocess_data, train, hpo, register_model"
   ]
  },
  {
   "cell_type": "code",
   "execution_count": 9,
   "metadata": {},
   "outputs": [],
   "source": [
    "WORK_DIR = Path(os.getcwd()).parent.parent\n",
    "\n",
    "DATA_DIR = WORK_DIR / 'data'\n",
    "\n",
    "MODEL_DIR = WORK_DIR / 'models'\n",
    "\n",
    "DIR_LIST = [\n",
    "    DATA_DIR,\n",
    "    MODEL_DIR\n",
    "]\n",
    "\n",
    "for dir in DIR_LIST:\n",
    "    if not dir.exists():\n",
    "        os.mkdir(dir)\n",
    "        \n",
    "DEST_DIR = WORK_DIR / 'output'"
   ]
  },
  {
   "cell_type": "code",
   "execution_count": 10,
   "metadata": {},
   "outputs": [
    {
     "name": "stdout",
     "output_type": "stream",
     "text": [
      "file already exist, skipping download...\n",
      "file already exist, skipping download...\n",
      "file already exist, skipping download...\n",
      "file already exist, skipping download...\n",
      "file already exist, skipping download...\n",
      "file already exist, skipping download...\n"
     ]
    }
   ],
   "source": [
    "# from https://www.nyc.gov/site/tlc/about/tlc-trip-record-data.page\n",
    "data_uri_list = [\n",
    "    'https://d37ci6vzurychx.cloudfront.net/trip-data/yellow_tripdata_2023-01.parquet',\n",
    "    'https://d37ci6vzurychx.cloudfront.net/trip-data/yellow_tripdata_2023-02.parquet',\n",
    "    'https://d37ci6vzurychx.cloudfront.net/trip-data/yellow_tripdata_2023-03.parquet',\n",
    "    'https://d37ci6vzurychx.cloudfront.net/trip-data/green_tripdata_2023-01.parquet',\n",
    "    'https://d37ci6vzurychx.cloudfront.net/trip-data/green_tripdata_2023-02.parquet',\n",
    "    'https://d37ci6vzurychx.cloudfront.net/trip-data/green_tripdata_2023-03.parquet',\n",
    "    ]\n",
    "\n",
    "for data_uri in data_uri_list:\n",
    "    data_uri_name = os.path.basename(urlparse(data_uri).path)\n",
    "    if not (DATA_DIR / data_uri_name).exists():\n",
    "        os.system(f'wget {data_uri} -P {str((DATA_DIR / data_uri_name).parent)}')\n",
    "    else:\n",
    "        print('file already exist, skipping download...')"
   ]
  },
  {
   "cell_type": "code",
   "execution_count": 11,
   "metadata": {},
   "outputs": [],
   "source": [
    "preprocess_data.run_data_prep(str(DATA_DIR), str(DEST_DIR))"
   ]
  },
  {
   "cell_type": "code",
   "execution_count": 12,
   "metadata": {},
   "outputs": [
    {
     "name": "stderr",
     "output_type": "stream",
     "text": [
      "2024/05/26 03:22:56 WARNING mlflow.utils.autologging_utils: You are using an unsupported version of sklearn. If you encounter errors during autologging, try upgrading / downgrading sklearn to a supported version, or try upgrading MLflow.\n"
     ]
    },
    {
     "name": "stderr",
     "output_type": "stream",
     "text": [
      "2024/05/26 03:22:57 WARNING mlflow.sklearn: Failed to log training dataset information to MLflow Tracking. Reason: 'numpy.ndarray' object has no attribute 'toarray'\n",
      "2024/05/26 03:23:12 WARNING mlflow.utils.autologging_utils: MLflow autologging encountered a warning: \"/opt/conda/envs/mlops_zc/lib/python3.9/site-packages/_distutils_hack/__init__.py:26: UserWarning: Setuptools is replacing distutils.\"\n",
      "/opt/conda/envs/mlops_zc/lib/python3.9/site-packages/sklearn/metrics/_regression.py:492: FutureWarning: 'squared' is deprecated in version 1.4 and will be removed in 1.6. To calculate the root mean squared error, use the function'root_mean_squared_error'.\n",
      "  warnings.warn(\n"
     ]
    }
   ],
   "source": [
    "run = train.run_train(str(DEST_DIR))"
   ]
  },
  {
   "cell_type": "code",
   "execution_count": 13,
   "metadata": {},
   "outputs": [],
   "source": [
    "def fetch_logged_data(run_id):\n",
    "    client = MlflowClient()\n",
    "    data = client.get_run(run_id).data\n",
    "    tags = {k: v for k, v in data.tags.items() if not k.startswith(\"mlflow.\")}\n",
    "    artifacts = [f.path for f in client.list_artifacts(run_id, \"model\")]\n",
    "    return data.params, data.metrics, tags, artifacts"
   ]
  },
  {
   "cell_type": "code",
   "execution_count": 14,
   "metadata": {},
   "outputs": [],
   "source": [
    "# fetch logged data\n",
    "params, metrics, tags, artifacts = fetch_logged_data(run.info.run_id)"
   ]
  },
  {
   "cell_type": "code",
   "execution_count": 15,
   "metadata": {},
   "outputs": [
    {
     "data": {
      "text/plain": [
       "{'warm_start': 'False',\n",
       " 'monotonic_cst': 'None',\n",
       " 'max_samples': 'None',\n",
       " 'n_estimators': '100',\n",
       " 'random_state': '0',\n",
       " 'n_jobs': 'None',\n",
       " 'oob_score': 'False',\n",
       " 'min_impurity_decrease': '0.0',\n",
       " 'verbose': '0',\n",
       " 'max_features': '1.0',\n",
       " 'min_samples_split': '2',\n",
       " 'max_leaf_nodes': 'None',\n",
       " 'max_depth': '10',\n",
       " 'min_weight_fraction_leaf': '0.0',\n",
       " 'ccp_alpha': '0.0',\n",
       " 'min_samples_leaf': '1',\n",
       " 'criterion': 'squared_error',\n",
       " 'bootstrap': 'True'}"
      ]
     },
     "execution_count": 15,
     "metadata": {},
     "output_type": "execute_result"
    }
   ],
   "source": [
    "params"
   ]
  },
  {
   "cell_type": "code",
   "execution_count": null,
   "metadata": {},
   "outputs": [],
   "source": [
    "hpo.run_optimization(str(DEST_DIR), 15)"
   ]
  },
  {
   "cell_type": "code",
   "execution_count": 16,
   "metadata": {},
   "outputs": [],
   "source": [
    "# def load_pickle(filename):\n",
    "#     with open(filename, \"rb\") as f_in:\n",
    "#         return pickle.load(f_in)\n",
    "\n",
    "\n",
    "# def train_and_log_model(data_path, params):\n",
    "#     X_train, y_train = load_pickle(os.path.join(data_path, \"train.pkl\"))\n",
    "#     X_val, y_val = load_pickle(os.path.join(data_path, \"val.pkl\"))\n",
    "#     X_test, y_test = load_pickle(os.path.join(data_path, \"test.pkl\"))\n",
    "\n",
    "#     with mlflow.start_run():\n",
    "#         for param in RF_PARAMS:\n",
    "#             params[param] = int(params[param])\n",
    "\n",
    "#         rf = RandomForestRegressor(**params)\n",
    "#         rf.fit(X_train, y_train)\n",
    "\n",
    "#         # Evaluate model on the validation and test sets\n",
    "#         val_rmse = mean_squared_error(y_val, rf.predict(X_val), squared=False)\n",
    "#         mlflow.log_metric(\"val_rmse\", val_rmse)\n",
    "#         test_rmse = mean_squared_error(y_test, rf.predict(X_test), squared=False)\n",
    "#         mlflow.log_metric(\"test_rmse\", test_rmse)\n",
    "\n",
    "# def run_register_model(data_path: str, top_n: int):\n",
    "\n",
    "#     client = MlflowClient()\n",
    "\n",
    "#     # Retrieve the top_n model runs and log the models\n",
    "#     experiment = client.get_experiment_by_name(HPO_EXPERIMENT_NAME)\n",
    "#     runs = client.search_runs(\n",
    "#         experiment_ids=experiment.experiment_id,\n",
    "#         run_view_type=ViewType.ACTIVE_ONLY,\n",
    "#         max_results=top_n,\n",
    "#         order_by=[\"metrics.rmse ASC\"]\n",
    "#     )\n",
    "#     for run in runs:\n",
    "#         train_and_log_model(data_path=data_path, params=run.data.params)\n",
    "\n",
    "#     # Select the model with the lowest test RMSE\n",
    "#     experiment = client.get_experiment_by_name(EXPERIMENT_NAME)\n",
    "#     best_run = client.search_runs(\n",
    "#         experiment_ids=experiment.experiment_id,\n",
    "#         run_view_type=ViewType.ACTIVE_ONLY,\n",
    "#         max_results=top_n,\n",
    "#         order_by=[\"metrics.rmse ASC\"]\n",
    "#     )[0]\n",
    "    \n",
    "#     # Register the best model\n",
    "#     run_id = best_run.info.run_id\n",
    "#     model_uri = f\"runs:/{run_id}/model\"\n",
    "#     mlflow.register_model(model_uri, name=\"rf-best-model\")"
   ]
  },
  {
   "cell_type": "code",
   "execution_count": 17,
   "metadata": {},
   "outputs": [],
   "source": [
    "# HPO_EXPERIMENT_NAME = \"random-forest-hyperopt\"\n",
    "\n",
    "# client = MlflowClient(\"http://127.0.0.1:5000\")\n",
    "\n",
    "# # Retrieve the top_n model runs and log the models\n",
    "# experiment = client.get_experiment_by_name(HPO_EXPERIMENT_NAME)"
   ]
  },
  {
   "cell_type": "code",
   "execution_count": 13,
   "metadata": {},
   "outputs": [
    {
     "name": "stderr",
     "output_type": "stream",
     "text": [
      "2024/05/26 04:51:35 WARNING mlflow.sklearn: Failed to log training dataset information to MLflow Tracking. Reason: 'numpy.ndarray' object has no attribute 'toarray'\n",
      "/opt/conda/envs/mlops_zc/lib/python3.9/site-packages/sklearn/metrics/_regression.py:492: FutureWarning: 'squared' is deprecated in version 1.4 and will be removed in 1.6. To calculate the root mean squared error, use the function'root_mean_squared_error'.\n",
      "  warnings.warn(\n",
      "/opt/conda/envs/mlops_zc/lib/python3.9/site-packages/sklearn/metrics/_regression.py:492: FutureWarning: 'squared' is deprecated in version 1.4 and will be removed in 1.6. To calculate the root mean squared error, use the function'root_mean_squared_error'.\n",
      "  warnings.warn(\n",
      "2024/05/26 04:51:41 WARNING mlflow.sklearn: Failed to log training dataset information to MLflow Tracking. Reason: 'numpy.ndarray' object has no attribute 'toarray'\n",
      "/opt/conda/envs/mlops_zc/lib/python3.9/site-packages/sklearn/metrics/_regression.py:492: FutureWarning: 'squared' is deprecated in version 1.4 and will be removed in 1.6. To calculate the root mean squared error, use the function'root_mean_squared_error'.\n",
      "  warnings.warn(\n",
      "/opt/conda/envs/mlops_zc/lib/python3.9/site-packages/sklearn/metrics/_regression.py:492: FutureWarning: 'squared' is deprecated in version 1.4 and will be removed in 1.6. To calculate the root mean squared error, use the function'root_mean_squared_error'.\n",
      "  warnings.warn(\n",
      "2024/05/26 04:51:54 WARNING mlflow.sklearn: Failed to log training dataset information to MLflow Tracking. Reason: 'numpy.ndarray' object has no attribute 'toarray'\n",
      "/opt/conda/envs/mlops_zc/lib/python3.9/site-packages/sklearn/metrics/_regression.py:492: FutureWarning: 'squared' is deprecated in version 1.4 and will be removed in 1.6. To calculate the root mean squared error, use the function'root_mean_squared_error'.\n",
      "  warnings.warn(\n",
      "/opt/conda/envs/mlops_zc/lib/python3.9/site-packages/sklearn/metrics/_regression.py:492: FutureWarning: 'squared' is deprecated in version 1.4 and will be removed in 1.6. To calculate the root mean squared error, use the function'root_mean_squared_error'.\n",
      "  warnings.warn(\n",
      "2024/05/26 04:52:03 WARNING mlflow.sklearn: Failed to log training dataset information to MLflow Tracking. Reason: 'numpy.ndarray' object has no attribute 'toarray'\n",
      "/opt/conda/envs/mlops_zc/lib/python3.9/site-packages/sklearn/metrics/_regression.py:492: FutureWarning: 'squared' is deprecated in version 1.4 and will be removed in 1.6. To calculate the root mean squared error, use the function'root_mean_squared_error'.\n",
      "  warnings.warn(\n",
      "/opt/conda/envs/mlops_zc/lib/python3.9/site-packages/sklearn/metrics/_regression.py:492: FutureWarning: 'squared' is deprecated in version 1.4 and will be removed in 1.6. To calculate the root mean squared error, use the function'root_mean_squared_error'.\n",
      "  warnings.warn(\n",
      "2024/05/26 04:52:13 WARNING mlflow.sklearn: Failed to log training dataset information to MLflow Tracking. Reason: 'numpy.ndarray' object has no attribute 'toarray'\n",
      "/opt/conda/envs/mlops_zc/lib/python3.9/site-packages/sklearn/metrics/_regression.py:492: FutureWarning: 'squared' is deprecated in version 1.4 and will be removed in 1.6. To calculate the root mean squared error, use the function'root_mean_squared_error'.\n",
      "  warnings.warn(\n",
      "/opt/conda/envs/mlops_zc/lib/python3.9/site-packages/sklearn/metrics/_regression.py:492: FutureWarning: 'squared' is deprecated in version 1.4 and will be removed in 1.6. To calculate the root mean squared error, use the function'root_mean_squared_error'.\n",
      "  warnings.warn(\n",
      "Registered model 'rf-best-model' already exists. Creating a new version of this model...\n",
      "2024/05/26 04:52:20 INFO mlflow.store.model_registry.abstract_store: Waiting up to 300 seconds for model version to finish creation. Model name: rf-best-model, version 2\n",
      "Created version '2' of model 'rf-best-model'.\n"
     ]
    }
   ],
   "source": [
    "register_model.run_register_model(str(DEST_DIR),5)"
   ]
  },
  {
   "cell_type": "code",
   "execution_count": null,
   "metadata": {},
   "outputs": [],
   "source": []
  }
 ],
 "metadata": {
  "kernelspec": {
   "display_name": "mlops_zc",
   "language": "python",
   "name": "python3"
  },
  "language_info": {
   "codemirror_mode": {
    "name": "ipython",
    "version": 3
   },
   "file_extension": ".py",
   "mimetype": "text/x-python",
   "name": "python",
   "nbconvert_exporter": "python",
   "pygments_lexer": "ipython3",
   "version": "3.9.19"
  }
 },
 "nbformat": 4,
 "nbformat_minor": 2
}
